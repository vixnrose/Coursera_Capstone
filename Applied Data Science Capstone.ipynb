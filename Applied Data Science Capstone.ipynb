{
    "cells": [
        {
            "cell_type": "markdown",
            "metadata": {
                "collapsed": true
            },
            "source": "# Applied Data Science Capstone\n## Capstone Project - The Battle of Neighborhoods\n\n### Prompt:\n\nClearly define a problem or an idea of your choice, where you would need to leverage the Foursquare location data to solve or execute. Remember that data science problems always target an audience and are meant to help a group of stakeholders solve a problem, so make sure that you explicitly describe your audience and why they would care about your problem.\n\nDescribe the data that you will be using to solve the problem or execute your idea. Remember that you will need to use the Foursquare location data to solve the problem or execute your idea. You can absolutely use other datasets in combination with the Foursquare location data. So make sure that you provide adequate explanation and discussion, with examples, of the data that you will be using, even if it is only Foursquare location data.\n\n**Review criteria**\n\n### Week 1\n\n#### 1. A description of the problem and a discussion of the background. (15 marks)"
        },
        {
            "cell_type": "markdown",
            "metadata": {},
            "source": "##### Objective:\n\n**The idea of this study is to provide housing location recommendations for individuals looking to relocate to New Orleans.**\n\n##### Background: \n\nIn 2005 America's Big Easy was ravaged by a devastating act of nature. Hurricane Katrina stole the lives and livelihoods of many American citizens, and while there are no words to describe the devastation or heartache of the victims, the disaster brought communities and the American people together in an effort to respond and rebuild.\n\nSince that time New Orleans has seen remarkable growth! While the population remains at 80% of what it was pre-Katrina, according to the Census Bureau in 2012, New Orleans ranked # 1 for population growth at 4.9%. Which is more than six times the national average.\n\nAccording to the World Population Review:\n\n> *\"There's no doubt that Hurricane Katrina was a terrible disaster and tragedy, but it gave New Orleans the money and opportunity to rebuild and reinvent itself [...] If current trends hold, New Orleans should have no trouble making its way back to pre-Katrina levels and possibly beyond before the next census in 2020.\"*\n\n##### Justification:\n\nThe city is known for it's rich culture and history, but during this period of regrowth has embraced new ideas and businesses to drive population growth. These factors indicate that New Orleans may be a good place to relocate in a new business or start up - especially for contractors who have the skills to aid New Orlean's rebirth."
        },
        {
            "cell_type": "markdown",
            "metadata": {},
            "source": "#### 2. A description of the data and how it will be used to solve the problem. (15 marks)"
        },
        {
            "cell_type": "markdown",
            "metadata": {},
            "source": "To provide the stakeholders the necessary information I will gather data about the income, population, crime rate and  of each neighborhood. I will also use Foursquare API to collect information about what kind of local venues are available in each neighborhood.\n\nIn addition to Foursquare API data, I will be using the following datasets:\n\nCrime Data - NOPD_-_Data_dictionary_for_Calls_For_Service_Open_Data.xlsx\n\nFound on data.nola.gov this dataset contains all calls for service in 2019 for criminal activity.\n\nI will also connect to the Census Data API to get data from American Community Survey. In this dataset I will collect demographic data including - population, ages, gender, and income of the various districts in New Orleans."
        }
    ],
    "metadata": {
        "kernelspec": {
            "display_name": "Python 3.6",
            "language": "python",
            "name": "python3"
        },
        "language_info": {
            "codemirror_mode": {
                "name": "ipython",
                "version": 3
            },
            "file_extension": ".py",
            "mimetype": "text/x-python",
            "name": "python",
            "nbconvert_exporter": "python",
            "pygments_lexer": "ipython3",
            "version": "3.6.8"
        }
    },
    "nbformat": 4,
    "nbformat_minor": 1
}